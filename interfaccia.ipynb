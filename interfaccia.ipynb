{
 "cells": [
  {
   "cell_type": "code",
   "execution_count": 1,
   "metadata": {},
   "outputs": [
    {
     "name": "stderr",
     "output_type": "stream",
     "text": [
      "/Users/salvatoremariocarota/opt/anaconda3/envs/multi/lib/python3.9/site-packages/tqdm/auto.py:21: TqdmWarning: IProgress not found. Please update jupyter and ipywidgets. See https://ipywidgets.readthedocs.io/en/stable/user_install.html\n",
      "  from .autonotebook import tqdm as notebook_tqdm\n",
      "/Users/salvatoremariocarota/opt/anaconda3/envs/multi/lib/python3.9/site-packages/timm/models/layers/__init__.py:48: FutureWarning: Importing from timm.models.layers is deprecated, please import via timm.layers\n",
      "  warnings.warn(f\"Importing from {__name__} is deprecated, please import via timm.layers\", FutureWarning)\n"
     ]
    },
    {
     "ename": "",
     "evalue": "",
     "output_type": "error",
     "traceback": [
      "\u001b[1;31mSi è verificato un arresto anomalo del Kernel durante l'esecuzione del codice nella cella attiva o in una cella precedente. \n",
      "\u001b[1;31mEsaminare il codice nelle celle per identificare una possibile causa dell'errore. \n",
      "\u001b[1;31mPer altre informazioni, fare clic<a href='https://aka.ms/vscodeJupyterKernelCrash'>qui</a>. \n",
      "\u001b[1;31mPer ulteriori dettagli, visualizzare Jupyter <a href='command:jupyter.viewOutput'>log</a>."
     ]
    }
   ],
   "source": [
    "import hight_res as hr"
   ]
  },
  {
   "cell_type": "code",
   "execution_count": null,
   "metadata": {},
   "outputs": [
    {
     "name": "stderr",
     "output_type": "stream",
     "text": [
      "qt.multimedia.ffmpeg: Using Qt multimedia with FFmpeg version 7.1 LGPL version 2.1 or later\n",
      "qt.multimedia.ffmpeg: Available HW decoding frameworks:\n",
      "qt.multimedia.ffmpeg:      videotoolbox\n",
      "qt.multimedia.ffmpeg: Available HW encoding frameworks:\n",
      "qt.multimedia.ffmpeg:      videotoolbox\n"
     ]
    },
    {
     "name": "stdout",
     "output_type": "stream",
     "text": [
      "loading model from model_zoo/swinir/001_classicalSR_DIV2K_s48w8_SwinIR-M_x8.pth\n"
     ]
    },
    {
     "name": "stderr",
     "output_type": "stream",
     "text": [
      "/Users/salvatoremariocarota/opt/anaconda3/envs/multi/lib/python3.9/site-packages/torch/functional.py:507: UserWarning: torch.meshgrid: in an upcoming release, it will be required to pass the indexing argument. (Triggered internally at /Users/runner/work/pytorch/pytorch/pytorch/aten/src/ATen/native/TensorShape.cpp:3550.)\n",
      "  return _VF.meshgrid(tensors, **kwargs)  # type: ignore[attr-defined]\n"
     ]
    }
   ],
   "source": [
    "from PyQt6.QtWidgets import QApplication, QWidget, QPushButton, QVBoxLayout, QLabel, QFileDialog, QHBoxLayout, QMainWindow\n",
    "from PyQt6.QtMultimedia import QMediaPlayer, QAudioOutput\n",
    "from PyQt6.QtMultimediaWidgets import QVideoWidget\n",
    "from PyQt6.QtCore import QUrl\n",
    "import cv2\n",
    "import os\n",
    "\n",
    "class VideoWindow(QMainWindow):\n",
    "    def __init__(self, video_path):\n",
    "        super().__init__()\n",
    "        self.setWindowTitle(\"Riproduzione Video\")\n",
    "        self.setGeometry(500, 100, 800, 600)\n",
    "\n",
    "        self.video_widget = QVideoWidget()\n",
    "        self.setCentralWidget(self.video_widget)\n",
    "\n",
    "        self.media_player = QMediaPlayer()\n",
    "        self.audio_output = QAudioOutput()\n",
    "        self.media_player.setAudioOutput(self.audio_output)\n",
    "        self.media_player.setVideoOutput(self.video_widget)\n",
    "\n",
    "        self.media_player.setSource(QUrl.fromLocalFile(video_path))\n",
    "        self.media_player.play()\n",
    "\n",
    "        # Controlli di riproduzione\n",
    "        self.control_layout = QHBoxLayout()\n",
    "        self.play_button = QPushButton(\"Play\")\n",
    "        self.pause_button = QPushButton(\"Pause\")\n",
    "\n",
    "        self.play_button.clicked.connect(self.media_player.play)\n",
    "        self.pause_button.clicked.connect(self.media_player.pause)\n",
    "\n",
    "        self.control_layout.addWidget(self.play_button)\n",
    "        self.control_layout.addWidget(self.pause_button)\n",
    "\n",
    "        self.layout = QVBoxLayout()\n",
    "        self.layout.addWidget(self.video_widget)\n",
    "        self.layout.addLayout(self.control_layout)\n",
    "\n",
    "        widget = QWidget()\n",
    "        widget.setLayout(self.layout)\n",
    "        self.setCentralWidget(widget)\n",
    "\n",
    "class MyApp(QWidget):\n",
    "    def __init__(self):\n",
    "        super().__init__()\n",
    "        self.setGeometry(50, 100, 400, 300)\n",
    "\n",
    "        self.layout = QVBoxLayout()\n",
    "        self.label = QLabel(\"Premi un pulsante\")\n",
    "        self.layout.addWidget(self.label)\n",
    "\n",
    "        # Pulsante per importare il video\n",
    "        self.button1 = QPushButton(\"Importa Video\")\n",
    "        self.button1.clicked.connect(self.import_video)\n",
    "        self.layout.addWidget(self.button1)\n",
    "\n",
    "        # Pulsante per dividere in frame (inizialmente nascosto)\n",
    "        self.button2 = QPushButton(\"Dividi in Frame\")\n",
    "        self.button2.clicked.connect(self.split_frames)\n",
    "        self.button2.setVisible(False)\n",
    "        self.layout.addWidget(self.button2)\n",
    "        \n",
    "        # Pulsante per ulteriori operazioni dopo la divisione (inizialmente nascosto)\n",
    "        self.button3 = QPushButton(\"High Res\")\n",
    "        self.button3.clicked.connect(self.high_res)\n",
    "        self.button3.setVisible(False)\n",
    "        self.layout.addWidget(self.button3)\n",
    "\n",
    "        self.video_path = None\n",
    "        \n",
    "        self.setLayout(self.layout)\n",
    "        self.setWindowTitle(\"Gestione Video\")\n",
    "\n",
    "    def import_video(self):\n",
    "        self.button3.setVisible(False)\n",
    "        file_dialog = QFileDialog()\n",
    "        file_path, _ = file_dialog.getOpenFileName(self, \"Seleziona un video\", \"\", \"Video Files (*.mp4 *.avi *.mov)\")\n",
    "        \n",
    "        if file_path:\n",
    "            self.video_path = file_path\n",
    "            self.label.setText(f\"Video importato: {os.path.basename(file_path)}\")\n",
    "            self.button2.setVisible(True)  # Mostra il pulsante per dividere in frame\n",
    "            self.open_video_window()\n",
    "    \n",
    "    def open_video_window(self):\n",
    "        if self.video_path:\n",
    "            self.video_window = VideoWindow(self.video_path)\n",
    "            self.video_window.show()\n",
    "    \n",
    "    def split_frames(self):\n",
    "        if not self.video_path:\n",
    "            self.label.setText(\"Nessun video selezionato!\")\n",
    "            return\n",
    "        \n",
    "        cap = cv2.VideoCapture(self.video_path)\n",
    "        frame_count = 0\n",
    "        output_folder = \"frames\"\n",
    "        os.makedirs(output_folder, exist_ok=True)\n",
    "        \n",
    "        while cap.isOpened():\n",
    "            ret, frame = cap.read()\n",
    "            if not ret:\n",
    "                break\n",
    "            frame_filename = os.path.join(output_folder, f\"frame_{frame_count:04d}.png\")\n",
    "            cv2.imwrite(frame_filename, frame)\n",
    "            frame_count += 1\n",
    "        \n",
    "        cap.release()\n",
    "        self.label.setText(f\"Video diviso in {frame_count} frame salvati in '{output_folder}'\")\n",
    "        self.button2.setVisible(False)\n",
    "        self.button3.setVisible(True)  \n",
    "  \n",
    "    \n",
    "    def high_res(self):\n",
    "        self.label.setText(\"Funzione High Res in esecuzione...\")\n",
    "        hr.hight_res(self.label)\n",
    "        self.label.setText(\"Fine operazione\")\n",
    "\n",
    "if __name__ == \"__main__\":\n",
    "    app = QApplication([])\n",
    "    window = MyApp()\n",
    "    window.show()\n",
    "    app.exec()\n"
   ]
  }
 ],
 "metadata": {
  "kernelspec": {
   "display_name": "multi",
   "language": "python",
   "name": "python3"
  },
  "language_info": {
   "codemirror_mode": {
    "name": "ipython",
    "version": 3
   },
   "file_extension": ".py",
   "mimetype": "text/x-python",
   "name": "python",
   "nbconvert_exporter": "python",
   "pygments_lexer": "ipython3",
   "version": "3.9.21"
  }
 },
 "nbformat": 4,
 "nbformat_minor": 2
}
