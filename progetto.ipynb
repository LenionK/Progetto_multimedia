{
 "cells": [
  {
   "cell_type": "markdown",
   "metadata": {},
   "source": [
    "# Progetto Multimedia"
   ]
  },
  {
   "cell_type": "code",
   "execution_count": 1,
   "metadata": {},
   "outputs": [
    {
     "name": "stdout",
     "output_type": "stream",
     "text": [
      "Estrazione completata!\n"
     ]
    }
   ],
   "source": [
    "import cv2\n",
    "import os\n",
    "\n",
    "# Percorso del video\n",
    "video_path = './input/test.mp4'\n",
    "\n",
    "# Cartella di destinazione per i frame estratti\n",
    "output_folder = 'frame_estratti'\n",
    "os.makedirs(output_folder, exist_ok=True)\n",
    "\n",
    "# Carica il video\n",
    "cap = cv2.VideoCapture(video_path)\n",
    "\n",
    "frame_number = 0\n",
    "while cap.isOpened():\n",
    "    ret, frame = cap.read()\n",
    "    if not ret:\n",
    "        break  # Esce dal ciclo se non ci sono più frame da leggere\n",
    "\n",
    "    # Salva il frame come immagine (formato PNG)\n",
    "    frame_filename = os.path.join(output_folder, f'frame_{frame_number:04d}.png')\n",
    "    cv2.imwrite(frame_filename, frame)\n",
    "\n",
    "    frame_number += 1\n",
    "\n",
    "cap.release()\n",
    "print(\"Estrazione completata!\")\n"
   ]
  },
  {
   "cell_type": "code",
   "execution_count": null,
   "metadata": {},
   "outputs": [],
   "source": []
  }
 ],
 "metadata": {
  "kernelspec": {
   "display_name": "base",
   "language": "python",
   "name": "python3"
  },
  "language_info": {
   "codemirror_mode": {
    "name": "ipython",
    "version": 3
   },
   "file_extension": ".py",
   "mimetype": "text/x-python",
   "name": "python",
   "nbconvert_exporter": "python",
   "pygments_lexer": "ipython3",
   "version": "3.9.13"
  }
 },
 "nbformat": 4,
 "nbformat_minor": 2
}
