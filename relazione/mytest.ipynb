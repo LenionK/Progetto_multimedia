{
 "cells": [
  {
   "cell_type": "code",
   "execution_count": null,
   "metadata": {},
   "outputs": [],
   "source": [
    "python inference_realesrgan_video.py -i ./input/testing.mp4 -o ./output -n RealESRGAN_x4plus -s 4 -t 0"
   ]
  },
  {
   "cell_type": "code",
   "execution_count": null,
   "metadata": {},
   "outputs": [],
   "source": [
    "python inference_realesrgan_video.py -i ./input/testing.mp4 -o ./output -n realesr-general-x4v3 -s 4 -t 0 -suffix DE -dn"
   ]
  },
  {
   "cell_type": "code",
   "execution_count": null,
   "metadata": {},
   "outputs": [],
   "source": [
    "python inference_realesrgan_video.py -i ./input/test.mp4 -o ./output -n realesr-general-x4v3 -s4 -t 0 --suffix DE -dn 0.7 --face_enhance"
   ]
  },
  {
   "cell_type": "code",
   "execution_count": 1,
   "metadata": {},
   "outputs": [
    {
     "name": "stderr",
     "output_type": "stream",
     "text": [
      "c:\\Users\\Salvos\\anaconda3\\envs\\net\\lib\\site-packages\\tqdm\\auto.py:21: TqdmWarning: IProgress not found. Please update jupyter and ipywidgets. See https://ipywidgets.readthedocs.io/en/stable/user_install.html\n",
      "  from .autonotebook import tqdm as notebook_tqdm\n"
     ]
    },
    {
     "name": "stdout",
     "output_type": "stream",
     "text": [
      "Nessuna GPU disponibile.\n"
     ]
    }
   ],
   "source": [
    "import torch\n",
    "\n",
    "# Verifica se CUDA è disponibile (cioè se la GPU è disponibile)\n",
    "if torch.cuda.is_available():\n",
    "    print(f\"GPU disponibile: {torch.cuda.get_device_name(0)}\")\n",
    "else:\n",
    "    print(\"Nessuna GPU disponibile.\")\n"
   ]
  }
 ],
 "metadata": {
  "kernelspec": {
   "display_name": "net",
   "language": "python",
   "name": "python3"
  },
  "language_info": {
   "codemirror_mode": {
    "name": "ipython",
    "version": 3
   },
   "file_extension": ".py",
   "mimetype": "text/x-python",
   "name": "python",
   "nbconvert_exporter": "python",
   "pygments_lexer": "ipython3",
   "version": "3.7.12"
  }
 },
 "nbformat": 4,
 "nbformat_minor": 2
}
