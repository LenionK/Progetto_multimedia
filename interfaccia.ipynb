{
 "cells": [
  {
   "cell_type": "code",
   "execution_count": 1,
   "metadata": {},
   "outputs": [
    {
     "name": "stderr",
     "output_type": "stream",
     "text": [
      "c:\\Users\\Salvos\\anaconda3\\envs\\multi\\lib\\site-packages\\tqdm\\auto.py:21: TqdmWarning: IProgress not found. Please update jupyter and ipywidgets. See https://ipywidgets.readthedocs.io/en/stable/user_install.html\n",
      "  from .autonotebook import tqdm as notebook_tqdm\n",
      "c:\\Users\\Salvos\\anaconda3\\envs\\multi\\lib\\site-packages\\timm\\models\\layers\\__init__.py:48: FutureWarning: Importing from timm.models.layers is deprecated, please import via timm.layers\n",
      "  warnings.warn(f\"Importing from {__name__} is deprecated, please import via timm.layers\", FutureWarning)\n"
     ]
    }
   ],
   "source": [
    "import hight_res as hr"
   ]
  },
  {
   "cell_type": "code",
   "execution_count": null,
   "metadata": {},
   "outputs": [],
   "source": [
    "from PyQt6.QtWidgets import QApplication, QWidget, QPushButton, QVBoxLayout, QLabel, QFileDialog\n",
    "import cv2\n",
    "import os\n",
    "import time\n",
    "\n",
    "\n",
    "class MyApp(QWidget):\n",
    "    def __init__(self):\n",
    "        super().__init__()\n",
    "        self.setGeometry(50, 100, 400, 300)\n",
    "\n",
    "        self.layout = QVBoxLayout()\n",
    "        self.label = QLabel(\"\")\n",
    "        self.layout.addWidget(self.label)\n",
    "\n",
    "        # Pulsante per importare il video\n",
    "        self.button1 = QPushButton(\"Importa Video\")\n",
    "        self.button1.clicked.connect(self.import_video)\n",
    "        self.layout.addWidget(self.button1)\n",
    "\n",
    "        # Pulsante per dividere in frame (inizialmente nascosto)\n",
    "        self.button2 = QPushButton(\"Dividi in Frame\")\n",
    "        self.button2.clicked.connect(self.split_frames)\n",
    "        self.button2.setVisible(False)\n",
    "        self.layout.addWidget(self.button2)\n",
    "        \n",
    "        # Pulsante per ulteriori operazioni dopo la divisione (inizialmente nascosto)\n",
    "        self.button3 = QPushButton(\"High Res\")\n",
    "        self.button3.clicked.connect(self.high_res)\n",
    "        self.button3.setVisible(False)\n",
    "        self.layout.addWidget(self.button3)\n",
    "\n",
    "        self.video_path = None\n",
    "        \n",
    "        self.setLayout(self.layout)\n",
    "        self.setWindowTitle(\"Gestione Video\")\n",
    "\n",
    "    def import_video(self):\n",
    "        self.button3.setVisible(False)\n",
    "        file_dialog = QFileDialog()\n",
    "        file_path, _ = file_dialog.getOpenFileName(self, \"Seleziona un video\", \"\", \"Video Files (*.mp4 *.avi *.mov)\")\n",
    "        \n",
    "        if file_path:\n",
    "            self.video_path = file_path\n",
    "            self.label.setText(f\"Video importato: {os.path.basename(file_path)}\")\n",
    "            self.button2.setVisible(True)  # Mostra il pulsante per dividere in frame\n",
    "    \n",
    "    def split_frames(self):\n",
    "        if not self.video_path:\n",
    "            self.label.setText(\"Nessun video selezionato!\")\n",
    "            return\n",
    "        \n",
    "        cap = cv2.VideoCapture(self.video_path)\n",
    "        frame_count = 0\n",
    "        output_folder = \"frames\"\n",
    "        os.makedirs(output_folder, exist_ok=True)\n",
    "        \n",
    "        while cap.isOpened():\n",
    "            ret, frame = cap.read()\n",
    "            if not ret:\n",
    "                break\n",
    "            frame_filename = os.path.join(output_folder, f\"frame_{frame_count:04d}.png\")\n",
    "            cv2.imwrite(frame_filename, frame)\n",
    "            frame_count += 1\n",
    "        \n",
    "        cap.release()\n",
    "        self.label.setText(f\"Video diviso in {frame_count} frame salvati in '{output_folder}'\")\n",
    "        self.button2.setVisible(False)\n",
    "        self.button3.setVisible(True)  \n",
    "    \n",
    "    def high_res(self):\n",
    "        self.label.setText(f\"Funzione High Res in esecuzione...\")\n",
    "        # Qui inserisci il codice per la funzione High Res\n",
    "        time.sleep(1)\n",
    "        hr.hight_res(self.label)  \n",
    "        self.label.setText(\"Fine operazione\")\n",
    "\n",
    "if __name__ == \"__main__\":\n",
    "    app = QApplication([])\n",
    "    window = MyApp()\n",
    "    window.show()\n",
    "    app.exec()\n"
   ]
  }
 ],
 "metadata": {
  "kernelspec": {
   "display_name": "multi",
   "language": "python",
   "name": "python3"
  },
  "language_info": {
   "codemirror_mode": {
    "name": "ipython",
    "version": 3
   },
   "file_extension": ".py",
   "mimetype": "text/x-python",
   "name": "python",
   "nbconvert_exporter": "python",
   "pygments_lexer": "ipython3",
   "version": "3.8.20"
  }
 },
 "nbformat": 4,
 "nbformat_minor": 2
}
