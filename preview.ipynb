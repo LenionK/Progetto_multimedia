{
 "cells": [
  {
   "cell_type": "markdown",
   "metadata": {
    "vscode": {
     "languageId": "plaintext"
    }
   },
   "source": [
    "# Progetto Multimedia"
   ]
  },
  {
   "cell_type": "code",
   "execution_count": 3,
   "metadata": {},
   "outputs": [],
   "source": [
    "import cv2\n",
    "import os\n",
    "import numpy as np\n",
    "\n",
    "# Percorso della cartella contenente le immagini\n",
    "folder_path = 'Demo_img'  # Sostituisci con il percorso della tua cartella\n",
    "valid_extensions = ['.jpg', '.jpeg', '.png', '.bmp']\n",
    "\n"
   ]
  },
  {
   "cell_type": "code",
   "execution_count": null,
   "metadata": {},
   "outputs": [],
   "source": [
    "\n",
    "\n",
    "# Ottieni la lista dei file nella cartella\n",
    "images = [f for f in os.listdir(folder_path) if any(f.lower().endswith(ext) for ext in valid_extensions)]\n",
    "\n",
    "# Se ci sono meno di 4 immagini, mostra un messaggio di errore\n",
    "if len(images) < 4:\n",
    "    print(\"La cartella deve contenere almeno 4 immagini.\")\n",
    "else:\n",
    "    # Carica le prime 4 immagini\n",
    "    img1 = cv2.imread(os.path.join(folder_path, images[0]))\n",
    "    img2 = cv2.imread(os.path.join(folder_path, images[1]))\n",
    "    img3 = cv2.imread(os.path.join(folder_path, images[2]))\n",
    "    img4 = cv2.imread(os.path.join(folder_path, images[3]))\n",
    "\n",
    "    # Ridimensiona le immagini per avere la stessa dimensione\n",
    "    height = min(img1.shape[0], img2.shape[0], img3.shape[0], img4.shape[0])\n",
    "    width = min(img1.shape[1], img2.shape[1], img3.shape[1], img4.shape[1])\n",
    "\n",
    "    img1 = cv2.resize(img1, (width, height))\n",
    "    img2 = cv2.resize(img2, (width, height))\n",
    "    img3 = cv2.resize(img3, (width, height))\n",
    "    img4 = cv2.resize(img4, (width, height))\n",
    "\n",
    "    # Scrivi i nomi delle immagini sopra ciascuna di esse\n",
    "    font = cv2.FONT_HERSHEY_SIMPLEX\n",
    "    font_scale = 0.4  # Font più piccolo\n",
    "    font_thickness = 1\n",
    "    text_color = (255, 255, 255)  # Colore del testo (bianco)\n",
    "\n",
    "    # Aggiungi il testo sopra le immagini\n",
    "    cv2.putText(img1, images[0], (50, 15), font, font_scale, text_color, font_thickness)\n",
    "    cv2.putText(img2, images[1], (50, 15), font, font_scale, text_color, font_thickness)\n",
    "    cv2.putText(img3, images[2], (50, 15), font, font_scale, text_color, font_thickness)\n",
    "    cv2.putText(img4, images[3], (50, 15), font, font_scale, text_color, font_thickness)\n",
    "\n",
    "    # Crea una nuova immagine concatenando le 4 immagini\n",
    "    top_row = np.hstack((img1, img2))  # Metti le prime due immagini sulla stessa riga\n",
    "    bottom_row = np.hstack((img3, img4))  # Metti le altre due immagini sulla seconda riga\n",
    "\n",
    "    # Unisci le due righe\n",
    "    final_image = np.vstack((top_row, bottom_row))\n",
    "\n",
    "    # Mostra l'immagine finale\n",
    "    cv2.imshow('Confronto Immagini', final_image)\n",
    "\n",
    "    # Aspetta che l'utente prema un tasto per chiudere la finestra\n",
    "    cv2.waitKey(0)\n",
    "    cv2.destroyAllWindows()\n"
   ]
  }
 ],
 "metadata": {
  "kernelspec": {
   "display_name": "base",
   "language": "python",
   "name": "python3"
  },
  "language_info": {
   "codemirror_mode": {
    "name": "ipython",
    "version": 3
   },
   "file_extension": ".py",
   "mimetype": "text/x-python",
   "name": "python",
   "nbconvert_exporter": "python",
   "pygments_lexer": "ipython3",
   "version": "3.9.13"
  }
 },
 "nbformat": 4,
 "nbformat_minor": 2
}
